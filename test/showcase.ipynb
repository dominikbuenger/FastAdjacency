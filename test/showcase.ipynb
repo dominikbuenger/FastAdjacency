{
 "cells": [
  {
   "cell_type": "markdown",
   "metadata": {},
   "source": [
    "# Fast adjacency matrix computations in Python with `fastadj`\n",
    "\n",
    "### Problem setting\n",
    "\n",
    "For a given $d$-dimensional *point cloud* of $n$ points $x_i \\in \\mathbb{R}^d$, $i=1,\\ldots,n$, the associated adjacency matrix has the form\n",
    "$$\n",
    "A = (a_{ij})_{i,j=1}^n \\in \\mathbb{R}^{n \\times n}, \\qquad A_{ij} = \\begin{cases} 0 & \\text{if } i=j, \\\\ \\exp\\left(\\frac{-\\|\\mathbf{x}_i - \\mathbf{x}_j\\|^2}{\\sigma^2}\\right) & \\text{else,} \\end{cases}\n",
    "$$\n",
    "where $\\sigma$ is a shape parameter. \n",
    "\n",
    "We use a fast summation scheme based on the Non-equispaced Fast Fourier Transformation (NFFT) to approximate this matrix by a similar deterministic linear operator that allows cheaper computations.\n",
    "The quality of the approximation depends on a handful of parameters. \n",
    "If these are kept fixed, the computational cost of a single matrix-vector product depends linearly on $n$ but expontially on $d$, as opposed to the naive computations depending quadratically on $n$ and linearly on $d$.\n",
    "For that reason, this software is targeted at the case of very large $n$ and small $d=2,3,4$.\n",
    "\n",
    "In our Python code, the data points are stored in the rows of a numpy array `X` of shape `(n,d)`:"
   ]
  },
  {
   "cell_type": "code",
   "execution_count": 8,
   "metadata": {},
   "outputs": [],
   "source": [
    "import numpy as np\n",
    "\n",
    "n = 10000\n",
    "d = 3\n",
    "\n",
    "points = np.random.randn(n, d)"
   ]
  },
  {
   "cell_type": "markdown",
   "metadata": {},
   "source": [
    "### Creating the adjacency matrix object\n",
    "\n",
    "The most convenient way to set up computations with the adjacency matrix is the `AdjacencyMatrix` class."
   ]
  },
  {
   "cell_type": "code",
   "execution_count": 9,
   "metadata": {},
   "outputs": [],
   "source": [
    "import fastadj\n",
    "\n",
    "sigma = 1.0\n",
    "adj = fastadj.AdjacencyMatrix(points, sigma, setup='default')"
   ]
  },
  {
   "cell_type": "markdown",
   "metadata": {},
   "source": [
    "* The `points` array and the Gaussian shape parameter `sigma` are required positional arguments.\n",
    "* The `setup` argument may be one of the string constants `'default'`, `'fine'`, or `'rough'`, which load setup presets for the parameters of the NFFT fastsum method.\n",
    "* For finer control over the parameters, pass `setup=fastadj.AccuracySetup(N,p,m,eps,tol)`, where\n",
    "  - `N` is the NFFT expansion degree (called $n$ in the NFFT),\n",
    "  - `p` is a smoothness parameter,\n",
    "  - `m` is a window cutoff parameter,\n",
    "  - `eps` is the outer boundary width (called $\\varepsilon_B$ in the NFFT, while $\\varepsilon_I$ is always zero),\n",
    "  - `tol` is the tolerance to be used for future eigenvalue computations.\n",
    "* The constructor has an optional fourth argument, `diagonal`, which can be set to manipulate the scalar value on the diagonal of the adjacency matrix. The default is 0. It can also be changed later on via `adj.diagonal`."
   ]
  },
  {
   "cell_type": "markdown",
   "metadata": {},
   "source": [
    "### Approximate matrix-vector products\n",
    "\n",
    "Use `adj.apply` to compute the approximate results of the product with a vector, i.e., the image of that vector under the operator $A$. The vector must be passed as a numpy array of shape `(n,)`, same as the return value. For example, the vector of node degrees can be approximated via the following code:"
   ]
  },
  {
   "cell_type": "code",
   "execution_count": 10,
   "metadata": {},
   "outputs": [
    {
     "name": "stdout",
     "output_type": "stream",
     "text": [
      "Avg/min/max degree: 901.62, 6.60, 1947.89\n"
     ]
    }
   ],
   "source": [
    "degrees = adj.apply(np.ones(n))\n",
    "\n",
    "print(\"Avg/min/max degree: {:.2f}, {:.2f}, {:.2f}\".format(degrees.mean(), degrees.min(), degrees.max()))"
   ]
  },
  {
   "cell_type": "markdown",
   "metadata": {},
   "source": [
    "### Eigenvalues of the normalized adjacency matrix\n",
    "\n",
    "The method `adj.normalized_eigs` computes the largest algebraic eigenvalues of the normalized adjacency matrix, $\\hat{A} = D^{-1/2} A D^{-1/2}$, where $D$ is the diagonal matrix holding the node `degrees` as above."
   ]
  },
  {
   "cell_type": "code",
   "execution_count": 11,
   "metadata": {},
   "outputs": [
    {
     "name": "stdout",
     "output_type": "stream",
     "text": [
      "Time for eigenvalue computation: 1.3626 seconds\n",
      "Eigenvalue #0: 1.0000 - Residual: 1.3303e-15\n",
      "Eigenvalue #1: 0.6690 - Residual: 5.0799e-15\n",
      "Eigenvalue #2: 0.6636 - Residual: 2.1748e-14\n",
      "Eigenvalue #3: 0.6584 - Residual: 9.6688e-15\n",
      "Eigenvalue #4: 0.4573 - Residual: 5.8318e-06\n",
      "Eigenvalue #5: 0.4521 - Residual: 1.9169e-05\n",
      "Eigenvalue #6: 0.4487 - Residual: 5.2553e-05\n",
      "Eigenvalue #7: 0.4402 - Residual: 6.2308e-05\n",
      "Eigenvalue #8: 0.4368 - Residual: 1.0346e-04\n",
      "Eigenvalue #9: 0.4292 - Residual: 2.0788e-05\n"
     ]
    }
   ],
   "source": [
    "from time import perf_counter as timer\n",
    "\n",
    "tic = timer()\n",
    "\n",
    "w, U = adj.normalized_eigs(k=10)\n",
    "\n",
    "\n",
    "time_eigs = timer() - tic\n",
    "print(\"Time for eigenvalue computation: {:.4f} seconds\".format(time_eigs))\n",
    "\n",
    "d_invsqrt = 1 / np.sqrt(degrees)\n",
    "\n",
    "for i in range(w.size):\n",
    "    res = np.linalg.norm(d_invsqrt * adj.apply(d_invsqrt * U[:,i]) - U[:,i] * w[i])\n",
    "    print(\"Eigenvalue #{}: {:.4f} - Residual: {:.4e}\".format(i, w[i], res))"
   ]
  },
  {
   "cell_type": "markdown",
   "metadata": {},
   "source": [
    "* The argument `k` is the number of eigenvalues to be computed.\n",
    "* The method has additional arguments to control the used algorithm, but these should generally not be needed.\n",
    "* By default, the Krylov-Schur algorithm is used on a shifted matrix.\n",
    "* The method returns `w, U`, where `w` is the vector of eigenvalues and `U` is the matrix holding the corresponding eigenvectors in its columns."
   ]
  },
  {
   "cell_type": "markdown",
   "metadata": {},
   "source": [
    "### Operator norm of the normalized graph Laplacian matrix\n",
    "\n",
    "A common use case of the normalized adjacency matrix are computations with the symmetrically normalized graph Laplacian matrix, $\\mathcal{L} = I - \\hat{A} = I - D^{-1/2} A D^{-1/2}$ (where $I$ is the identity matrix). `adj.normalized_laplacian_norm()` computes the 2-norm of that matrix, which is equal to one minus the smallest algebraic eigenvalue of $\\hat{A}$."
   ]
  },
  {
   "cell_type": "code",
   "execution_count": 12,
   "metadata": {},
   "outputs": [
    {
     "name": "stdout",
     "output_type": "stream",
     "text": [
      "Normalized Laplacian norm: 1.0567   (computed in 1.44 seconds)\n"
     ]
    }
   ],
   "source": [
    "tic = timer()\n",
    "\n",
    "norm = adj.normalized_laplacian_norm()\n",
    "\n",
    "time_norm = timer() - tic\n",
    "print(\"Normalized Laplacian norm: {:.4f}   (computed in {:.2f} seconds)\".format(norm, time_norm))"
   ]
  },
  {
   "cell_type": "markdown",
   "metadata": {},
   "source": [
    "### Manipulating the setting\n",
    "\n",
    "In typical applications, the setting is set once and left fixed afterwards. However, manipulations are possible in some cases:\n",
    "* Setting `adj.points` tries to reuse the internal computational structure for the adjacency matrix of new data. The number of points may also change. Due to internal scaling, this is not always possible, and if it is, the setup will not be optimal. Since the original internal setup is usually not very expensive, it is recommended to simply create a new `AdjacencyMatrix` instead of updating the `points` of an existing one.\n",
    "* For convenience, setting `adj.sigma` is also supported. However, it is computationally equivalent to creating a new `AdjacencyMatrix`.\n",
    "* Updating `adj.scaling_factor` or the values in `adj.setup` does not work and may break things."
   ]
  },
  {
   "cell_type": "code",
   "execution_count": 6,
   "metadata": {},
   "outputs": [],
   "source": [
    "adj.points = np.random.randn(100, d)\n",
    "adj.sigma = 2"
   ]
  },
  {
   "cell_type": "code",
   "execution_count": null,
   "metadata": {},
   "outputs": [],
   "source": []
  }
 ],
 "metadata": {
  "@webio": {
   "lastCommId": "8d97087e031e468fa4df51f9eec2b313",
   "lastKernelId": "f6ad27d3-4af9-42a3-87be-68a3831bc0aa"
  },
  "kernelspec": {
   "display_name": "Python 3",
   "language": "python",
   "name": "python3"
  },
  "language_info": {
   "codemirror_mode": {
    "name": "ipython",
    "version": 3
   },
   "file_extension": ".py",
   "mimetype": "text/x-python",
   "name": "python",
   "nbconvert_exporter": "python",
   "pygments_lexer": "ipython3",
   "version": "3.8.3"
  }
 },
 "nbformat": 4,
 "nbformat_minor": 2
}
